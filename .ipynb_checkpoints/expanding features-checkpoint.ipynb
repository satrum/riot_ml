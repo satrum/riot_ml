{
 "cells": [
  {
   "cell_type": "code",
   "execution_count": 1,
   "metadata": {
    "collapsed": true
   },
   "outputs": [],
   "source": [
    "import riot_api_v1 as riot\n",
    "#riot.initcash(fromfile=True)"
   ]
  },
  {
   "cell_type": "code",
   "execution_count": 2,
   "metadata": {
    "collapsed": true
   },
   "outputs": [],
   "source": [
    "import os, glob, json\n",
    "DIR_MATCHES = 'loadedmatches'\n",
    "#DIR_MATCHES = 'matches'\n",
    "def load_cashed_matches():\n",
    "\t#import glob\n",
    "\tif os.name=='nt':\n",
    "\t\tcashedids = [item.split('\\\\')[1].split('.')[0] for item in glob.glob(DIR_MATCHES+'\\*.txt')]\n",
    "\telse:\n",
    "\t\tcashedids = [item.split('/')[1].split('.')[0] for item in glob.glob(DIR_MATCHES+'/*.txt')]\n",
    "\tprint('cashed matches ids:')\n",
    "\tfor id in cashedids:\n",
    "\t\t#print('match:',id)\n",
    "\t\tfile = open(DIR_MATCHES+'/'+id+'.txt', 'r')\n",
    "\t\tmatch = json.load(file)\n",
    "\t\tfile.close()\n",
    "\t\t#printmatch(match)\n",
    "\t\tupdate_cashed_matches(match)\n",
    "\n",
    "\n",
    "#in getmatch and load_cashed_matches\n",
    "def update_cashed_matches(match):\n",
    "\t#global cashedmatches\n",
    "\t#['matchid','queue','win','p1-10','c1-10','creation','duration']\n",
    "\tmatchstat = [match['gameId'], match['queueId']]\n",
    "\tteams = match['teams']\n",
    "\tif teams[0]['win']=='Win':\n",
    "\t\tmatchstat.append(100)\n",
    "\telse:\n",
    "\t\tmatchstat.append(200)\n",
    "\tfor player in match['participantIdentities']:\n",
    "\t\tmatchstat.append(player['player']['currentAccountId'])\n",
    "\tfor player in match['participants']:\n",
    "\t\tmatchstat.append(player['championId'])\n",
    "\tmatchstat.append(match['gameCreation'])\n",
    "\tmatchstat.append(match['gameDuration'])\n",
    "\tfor player in match['participants']:\n",
    "\t\tmatchstat.append(player['highestAchievedSeasonTier'])\n",
    "\tfor player in match['participants']:\n",
    "\t\tfor k,v in player['stats'].items():\n",
    "\t\t\tmatchstat.append(v)\n",
    "\triot.cashedmatches.append(matchstat)\n",
    "\treturn matchstat"
   ]
  },
  {
   "cell_type": "code",
   "execution_count": 3,
   "metadata": {},
   "outputs": [
    {
     "name": "stdout",
     "output_type": "stream",
     "text": [
      "cashed matches ids:\n"
     ]
    }
   ],
   "source": [
    "riot.cashedmatches = []\n",
    "load_cashed_matches()"
   ]
  },
  {
   "cell_type": "code",
   "execution_count": 4,
   "metadata": {
    "scrolled": true
   },
   "outputs": [
    {
     "name": "stdout",
     "output_type": "stream",
     "text": [
      "1045\n"
     ]
    },
    {
     "data": {
      "text/plain": [
       "[1,\n",
       " True,\n",
       " 4201,\n",
       " 3146,\n",
       " 3020,\n",
       " 0,\n",
       " 0,\n",
       " 0,\n",
       " 3340,\n",
       " 7,\n",
       " 2,\n",
       " 8,\n",
       " 4,\n",
       " 2,\n",
       " 2,\n",
       " 263,\n",
       " 3,\n",
       " 0,\n",
       " 0,\n",
       " 0,\n",
       " 0,\n",
       " 32386,\n",
       " 26956,\n",
       " 5429,\n",
       " 0,\n",
       " 0,\n",
       " 7086,\n",
       " 6818,\n",
       " 268,\n",
       " 0,\n",
       " 2233,\n",
       " 1,\n",
       " 3397,\n",
       " 499,\n",
       " 499,\n",
       " 1,\n",
       " 0,\n",
       " 8269,\n",
       " 1034,\n",
       " 7134,\n",
       " 100,\n",
       " 7884,\n",
       " 5000,\n",
       " 0,\n",
       " 0,\n",
       " 46,\n",
       " 0,\n",
       " 0,\n",
       " 0,\n",
       " 3,\n",
       " 12,\n",
       " 0,\n",
       " 0,\n",
       " 2,\n",
       " 0,\n",
       " False,\n",
       " False,\n",
       " False,\n",
       " False,\n",
       " False,\n",
       " True,\n",
       " 0,\n",
       " 0,\n",
       " 0,\n",
       " 0,\n",
       " 0,\n",
       " 0,\n",
       " 0,\n",
       " 0,\n",
       " 0,\n",
       " 0,\n",
       " 0,\n",
       " 0,\n",
       " 0,\n",
       " 0,\n",
       " 8112,\n",
       " 197,\n",
       " 0,\n",
       " 0,\n",
       " 8139,\n",
       " 317,\n",
       " 0,\n",
       " 0,\n",
       " 8138,\n",
       " 30,\n",
       " 0,\n",
       " 0,\n",
       " 8135,\n",
       " 5,\n",
       " 0,\n",
       " 0,\n",
       " 9111,\n",
       " 643,\n",
       " 300,\n",
       " 0,\n",
       " 8014,\n",
       " 179,\n",
       " 0,\n",
       " 0,\n",
       " 8100,\n",
       " 8000]"
      ]
     },
     "execution_count": 4,
     "metadata": {},
     "output_type": "execute_result"
    }
   ],
   "source": [
    "print(len(riot.cashedmatches[0]))\n",
    "riot.cashedmatches[0][35:136] #len stat = 101"
   ]
  },
  {
   "cell_type": "code",
   "execution_count": 5,
   "metadata": {
    "collapsed": true
   },
   "outputs": [],
   "source": [
    "players={}\n",
    "#print(riot.cashedmatches[0][13:23])\n",
    "\n",
    "def load_players_cashedmatches():\n",
    "\tallplayers = set()\n",
    "\tfor item in riot.cashedmatches:\n",
    "\t\tmatchplayers = set(item[3:3+10])\n",
    "\t\t#print(len(matchplayers), matchplayers)\n",
    "\t\tallplayers = allplayers.union(matchplayers)\n",
    "\treturn allplayers\n",
    "players = load_players_cashedmatches()"
   ]
  },
  {
   "cell_type": "code",
   "execution_count": 189,
   "metadata": {},
   "outputs": [
    {
     "name": "stdout",
     "output_type": "stream",
     "text": [
      "all players in cashedmatches: 72956\n"
     ]
    }
   ],
   "source": [
    "print('all players in cashedmatches:',len(players))\n",
    "file = open('players-set.txt', 'w', encoding='utf8')\n",
    "json.dump(list(players), file)\n",
    "file.close()"
   ]
  },
  {
   "cell_type": "code",
   "execution_count": 6,
   "metadata": {},
   "outputs": [
    {
     "name": "stdout",
     "output_type": "stream",
     "text": [
      "all cashedmatches: 38526\n"
     ]
    }
   ],
   "source": [
    "#save cashedmatches\n",
    "print('all cashedmatches:',len(riot.cashedmatches))\n",
    "file = open('cashedmatches-set.txt', 'w', encoding='utf8')\n",
    "json.dump(riot.cashedmatches, file)\n",
    "file.close()"
   ]
  },
  {
   "cell_type": "code",
   "execution_count": 1,
   "metadata": {},
   "outputs": [
    {
     "name": "stdout",
     "output_type": "stream",
     "text": [
      "all cashed matches 38526\n",
      "all players in cashedmatches: 72956\n"
     ]
    }
   ],
   "source": [
    "import json\n",
    "#START\n",
    "#load players and cashedmatches\n",
    "file = open('cashedmatches-set.txt', 'r')\n",
    "cashedmatches=json.load(file)\n",
    "file.close()\n",
    "print('all cashed matches',len(cashedmatches))\n",
    "file = open('players-set.txt', 'r')\n",
    "players=set(json.load(file))\n",
    "file.close()\n",
    "print('all players in cashedmatches:',len(players))"
   ]
  },
  {
   "cell_type": "code",
   "execution_count": 2,
   "metadata": {},
   "outputs": [
    {
     "name": "stdout",
     "output_type": "stream",
     "text": [
      "        0     1     2          3          4          5          6     \\\n",
      "0  182639758  1200   100  202225665  201233302  204410278  202939943   \n",
      "1  182639784  1200   100  202238230  202550313  200163292  204157139   \n",
      "2  182639803  1200   200  203112515  200074243  204606531  201875934   \n",
      "3  182639834  1200   200  203601120  203952894  200199360  203581658   \n",
      "4  182639838  1200   200  200122165  202520920  200202803  203238502   \n",
      "\n",
      "        7          8          9      ...      1035   1036  1037  1038    1039  \\\n",
      "0  204883600  202054882  202965995   ...    8014.0   85.0   0.0   0.0  9111.0   \n",
      "1  201933637  203722551  204950394   ...    9111.0   37.0  40.0   0.0  9104.0   \n",
      "2  203856654  200125290  202720776   ...    8347.0    0.0   0.0   0.0  8304.0   \n",
      "3  202264295  201883748  200632227   ...    8138.0   30.0   0.0   0.0  8105.0   \n",
      "4  200313860  202958406  202244080   ...    8143.0  581.0   0.0   0.0  8105.0   \n",
      "\n",
      "    1040  1041  1042    1043    1044  \n",
      "0  255.0  80.0   0.0  8100.0  8000.0  \n",
      "1    0.0   0.0   0.0  8100.0  8000.0  \n",
      "2    4.0   3.0   0.0  8200.0  8300.0  \n",
      "3    4.0   0.0   0.0  8200.0  8100.0  \n",
      "4    5.0   0.0   0.0  8000.0  8100.0  \n",
      "\n",
      "[5 rows x 1045 columns]\n",
      "[  1   2   3   4   5   6   7   8   9  10  11  12  13  14  15  16  17  18\n",
      "  19  20  21  22  23  24  25  26  27  28  29  30  31  32  33  34  35  36\n",
      "  37  38  39  40  41  42  43  44  45  48  50  51  53  54  55  56  57  58\n",
      "  59  60  61  62  63  64  67  68  69  72  74  75  76  77  78  79  80  81\n",
      "  82  83  84  85  86  89  90  91  92  96  98  99 101 102 103 104 105 106\n",
      " 107 110 111 112 113 114 115 117 119 120 121 122 126 127 131 133 134 136\n",
      " 141 142 143 145 150 154 157 161 163 164 201 202 203 222 223 236 238 240\n",
      " 245 254 266 267 268 412 420 421 427 429 432 497 498 516 555]\n",
      "<class 'numpy.ndarray'>\n"
     ]
    }
   ],
   "source": [
    "import numpy as np\n",
    "import pandas as pd\n",
    "m = pd.DataFrame(cashedmatches)\n",
    "print(m.head(5))\n",
    "x = m.iloc[:,13:23].copy()\n",
    "champions = np.unique(x[:])\n",
    "print(champions)\n",
    "print(type(champions))"
   ]
  },
  {
   "cell_type": "code",
   "execution_count": 3,
   "metadata": {},
   "outputs": [
    {
     "data": {
      "text/plain": [
       "\"[182639758, 1200, 100, 202225665, 201233302, 204410278, 202939943, 204883600, 202054882, 202965995, 203096459, 203237746, 203453904, 55, 112, 99, 62, 131, 131, 117, 254, 110, 102, 1534364853947, 532, 'GOLD', 'GOLD', 'UNRANKED', 'UNRANKED', 'UNRANKED', 'UNRANKED', 'SILVER', 'SILVER', 'SILVER', 'SILVER']\""
      ]
     },
     "execution_count": 3,
     "metadata": {},
     "output_type": "execute_result"
    }
   ],
   "source": [
    "str(cashedmatches[0][0:35])"
   ]
  },
  {
   "cell_type": "code",
   "execution_count": null,
   "metadata": {
    "collapsed": true
   },
   "outputs": [],
   "source": []
  },
  {
   "cell_type": "code",
   "execution_count": 4,
   "metadata": {},
   "outputs": [
    {
     "name": "stdout",
     "output_type": "stream",
     "text": [
      "<class 'set'>\n",
      "72956 {1: [0, 0, 0], 2: [0, 0, 0], 3: [0, 0, 0], 4: [0, 0, 0], 5: [0, 0, 0], 6: [0, 0, 0], 7: [0, 0, 0], 8: [0, 0, 0], 9: [0, 0, 0], 10: [0, 0, 0], 11: [0, 0, 0], 12: [0, 0, 0], 13: [0, 0, 0], 14: [0, 0, 0], 15: [0, 0, 0], 16: [0, 0, 0], 17: [0, 0, 0], 18: [0, 0, 0], 19: [0, 0, 0], 20: [0, 0, 0], 21: [0, 0, 0], 22: [0, 0, 0], 23: [0, 0, 0], 24: [1, 1, 0], 25: [0, 0, 0], 26: [0, 0, 0], 27: [0, 0, 0], 28: [0, 0, 0], 29: [0, 0, 0], 30: [0, 0, 0], 31: [0, 0, 0], 32: [0, 0, 0], 33: [0, 0, 0], 34: [0, 0, 0], 35: [0, 0, 0], 36: [0, 0, 0], 37: [0, 1, 0], 38: [0, 0, 0], 39: [0, 0, 0], 40: [0, 0, 0], 41: [0, 0, 0], 42: [0, 0, 0], 43: [0, 0, 0], 44: [0, 0, 0], 45: [0, 0, 0], 48: [0, 0, 0], 50: [0, 0, 0], 51: [0, 0, 0], 53: [0, 0, 0], 54: [0, 0, 0], 55: [0, 0, 0], 56: [0, 0, 0], 57: [0, 0, 0], 58: [0, 0, 0], 59: [0, 0, 0], 60: [0, 0, 0], 61: [0, 0, 0], 62: [0, 0, 0], 63: [0, 0, 0], 64: [0, 0, 0], 67: [0, 0, 0], 68: [0, 0, 0], 69: [0, 0, 0], 72: [0, 0, 0], 74: [0, 0, 0], 75: [0, 0, 0], 76: [0, 0, 0], 77: [0, 0, 0], 78: [0, 0, 0], 79: [0, 0, 0], 80: [0, 0, 0], 81: [0, 0, 0], 82: [1, 1, 0], 83: [0, 0, 0], 84: [1, 0, 0], 85: [0, 0, 0], 86: [0, 0, 0], 89: [0, 0, 0], 90: [0, 0, 0], 91: [0, 0, 0], 92: [0, 1, 0], 96: [0, 0, 0], 98: [0, 0, 0], 99: [0, 0, 0], 101: [0, 0, 0], 102: [0, 0, 0], 103: [0, 0, 0], 104: [0, 0, 0], 105: [0, 0, 0], 106: [0, 0, 0], 107: [0, 0, 0], 110: [0, 0, 0], 111: [0, 0, 0], 112: [0, 0, 0], 113: [0, 0, 0], 114: [0, 0, 0], 115: [0, 0, 0], 117: [0, 0, 0], 119: [0, 0, 0], 120: [0, 0, 0], 121: [0, 0, 0], 122: [0, 0, 0], 126: [0, 0, 0], 127: [0, 0, 0], 131: [0, 2, 0], 133: [0, 0, 0], 134: [0, 0, 0], 136: [0, 0, 0], 141: [0, 0, 0], 142: [0, 0, 0], 143: [0, 0, 0], 145: [0, 0, 0], 150: [0, 0, 0], 154: [0, 0, 0], 157: [0, 0, 0], 161: [0, 0, 0], 163: [0, 0, 0], 164: [0, 0, 0], 201: [0, 0, 0], 202: [0, 0, 0], 203: [0, 0, 0], 222: [0, 0, 0], 223: [0, 0, 0], 236: [0, 0, 0], 238: [0, 0, 0], 240: [0, 0, 0], 245: [0, 0, 0], 254: [0, 0, 0], 266: [0, 0, 0], 267: [0, 0, 0], 268: [0, 0, 0], 412: [0, 0, 0], 420: [0, 0, 0], 421: [0, 0, 0], 427: [0, 0, 0], 429: [0, 0, 0], 432: [0, 0, 0], 497: [0, 0, 0], 498: [0, 0, 0], 516: [0, 0, 0], 555: [0, 0, 0]}\n"
     ]
    }
   ],
   "source": [
    "cdict = {i:[0,0,0] for i in list(champions)} #win, fail, winrate\n",
    "#print(cdict)\n",
    "#2 - win 100 blue or 200 red \n",
    "#3-12 players\n",
    "#13-22 champions\n",
    "#25-35 rank\n",
    "print(type(players))\n",
    "players_stat={id:{i:[0,0,0] for i in list(champions)} for id in list(players)}\n",
    "#print(len(players_stat),players_stat[202054882])\n",
    "#for match in riot.cashedmatches:\n",
    "for match in cashedmatches:\n",
    "    #print(match[3:23])\n",
    "    win = match[2]\n",
    "    for i in range(3,13):\n",
    "        playerid = match[i]\n",
    "        champion = match[i+10]\n",
    "        if win==100:#blue win\n",
    "            if i<=7:\n",
    "                index=0 #win\n",
    "            else:\n",
    "                index=1 #fail\n",
    "        else:\n",
    "            if i<=7:\n",
    "                index=1 #fail\n",
    "            else:\n",
    "                index=0 #win\n",
    "        last = players_stat[playerid][champion]\n",
    "        #print()\n",
    "        #print(i, playerid, win, index, champion, last)\n",
    "        players_stat[playerid][champion][index] = last[index] + 1\n",
    "        #print(i, playerid, win, index, champion, players_stat[playerid][champion])\n",
    "        #print(players_stat[player])\n",
    "#print(players_stat[player])\n",
    "\n",
    "#players_stat:\n",
    "print(len(players_stat),players_stat[202054882])"
   ]
  },
  {
   "cell_type": "code",
   "execution_count": 5,
   "metadata": {},
   "outputs": [
    {
     "name": "stdout",
     "output_type": "stream",
     "text": [
      "72956\n"
     ]
    }
   ],
   "source": [
    "#print(players_stat[202225665])\n",
    "#print(players_stat[200278136])\n",
    "players_winrate={}\n",
    "for player,c in players_stat.items():\n",
    "    winrate=[0,0,0]\n",
    "    #print(player,champions)\n",
    "    for index in c.values():\n",
    "        if (index[0]+index[1]) > 0:\n",
    "            index[2] = index[0]/(index[0]+index[1])\n",
    "        winrate[0]+=index[0]\n",
    "        winrate[1]+=index[1]\n",
    "    winrate[2]=winrate[0]/(winrate[0]+winrate[1])\n",
    "    players_winrate[player]=winrate\n",
    "\n",
    "'''\n",
    "for match in riot.cashedmatches[0:1]:\n",
    "    win = match[2]\n",
    "    for i in range(13,22):\n",
    "        champion = match[i]\n",
    "        #print(champion)\n",
    "''' \n",
    "print(len(players_winrate))"
   ]
  },
  {
   "cell_type": "code",
   "execution_count": 6,
   "metadata": {},
   "outputs": [
    {
     "name": "stdout",
     "output_type": "stream",
     "text": [
      "38526\n",
      "[0.0, 1, 0, 1.0, 1, 0, 1.0, 2, 1, 0.6666666666666666, 9, 4, 0.6923076923076923, 2, 0, 1.0, 3, 6, 0.3333333333333333, 0, 1, 0.0, 0, 1, 0.0, 17, 14, 0.5483870967741935, 5, 6, 0.45454545454545453]\n"
     ]
    }
   ],
   "source": [
    "#only winrate (30 features = 10 players *3)\n",
    "#MSE: 0.0703\n",
    "#Accuracy score (training): 0.953\n",
    "#Accuracy score (validation): 0.930\n",
    "newmatches = []\n",
    "#for match in riot.cashedmatches:\n",
    "for match in cashedmatches:\n",
    "    a=[match[2]/100-1]\n",
    "    for i in range(3,13): #get players\n",
    "        a.extend(players_winrate[match[i]])\n",
    "    newmatches.append(a)\n",
    "print(len(newmatches))\n",
    "print(newmatches[0])"
   ]
  },
  {
   "cell_type": "code",
   "execution_count": 514,
   "metadata": {},
   "outputs": [
    {
     "name": "stdout",
     "output_type": "stream",
     "text": [
      "1441\n"
     ]
    }
   ],
   "source": [
    "#win champions winrate (141*10)\n",
    "newmatches = []\n",
    "for match in riot.cashedmatches:\n",
    "    a=[match[2]/100-1]\n",
    "    for i in range(3,13): #get players\n",
    "        a.extend(players_winrate[match[i]])\n",
    "        p = players_stat[match[i]]\n",
    "        for j in p:\n",
    "            #print(p[j][2])\n",
    "            a.append(p[j][2])\n",
    "    newmatches.append(a)\n",
    "print(len(newmatches[0]))\n",
    "#print(newmatches)"
   ]
  },
  {
   "cell_type": "code",
   "execution_count": null,
   "metadata": {
    "collapsed": true
   },
   "outputs": [],
   "source": [
    "#get more data: gold, points, k/d/a\n",
    "#\"kills\": 10, \"deaths\": 5, \"assists\": 7\n",
    "#\"goldEarned\": 11074\n",
    "#!!! NOT READY TO USE\n",
    "newmatches = []\n",
    "for match in riot.cashedmatches:\n",
    "    a=[match[2]/100-1]\n",
    "    for i in range(3,13): #get players\n",
    "        a.extend(players_winrate[match[i]])\n",
    "        p = players_stat[match[i]]\n",
    "        for j in p:\n",
    "            #print(p[j][2])\n",
    "            a.append(p[j][2])\n",
    "    newmatches.append(a)\n",
    "print(len(newmatches))\n",
    "print(newmatches[0])"
   ]
  },
  {
   "cell_type": "code",
   "execution_count": 7,
   "metadata": {},
   "outputs": [
    {
     "name": "stdout",
     "output_type": "stream",
     "text": [
      "[0.0, 1, 0, 1.0, 1, 0, 1.0, 2, 1, 0.6666666666666666, 9, 4, 0.6923076923076923, 2, 0, 1.0, 3, 6, 0.3333333333333333, 0, 1, 0.0, 0, 1, 0.0, 17, 14, 0.5483870967741935, 5, 6, 0.45454545454545453]\n"
     ]
    }
   ],
   "source": [
    "print(newmatches[0])"
   ]
  },
  {
   "cell_type": "code",
   "execution_count": 8,
   "metadata": {},
   "outputs": [
    {
     "name": "stdout",
     "output_type": "stream",
     "text": [
      "[ 6.55640347  6.1482116   0.49266104  6.45852152  6.06053055  0.49000458\n",
      "  6.48403675  6.03408088  0.49300013  6.44193532  6.03631314  0.49031946\n",
      "  6.64777034  6.2223174   0.49342437  6.84394954  6.09821938  0.50775632\n",
      "  6.76031771  5.98468567  0.50925004  6.76774127  5.98151897  0.50846159\n",
      "  6.72436796  5.98549032  0.50721789  6.81098479  6.08695426  0.50790457]\n",
      "[ 6.39750115  5.68838966  0.23058213  6.35185262  5.58778593  0.23154798\n",
      "  6.33814101  5.5926367   0.22934259  6.21764242  5.47521635  0.22981853\n",
      "  6.41686427  5.72452193  0.22703519  6.51959821  5.61859518  0.22695408\n",
      "  6.44432905  5.51060708  0.22901889  6.40829824  5.51201969  0.22955435\n",
      "  6.41994954  5.58405933  0.23085359  6.48141672  5.60435377  0.22715568]\n",
      "(26968, 30) (26968,)\n",
      "(11558, 30) (11558,)\n"
     ]
    }
   ],
   "source": [
    "matches = pd.DataFrame(newmatches)\n",
    "x = matches.iloc[:,1:]\n",
    "y = matches[[0]]\n",
    "y1d = y.values.ravel()\n",
    "\n",
    "from sklearn.preprocessing import StandardScaler\n",
    "scaler = StandardScaler()\n",
    "scaler.fit(x)\n",
    "print(scaler.mean_)\n",
    "print(scaler.scale_)\n",
    "#x_scaled = scaler.transform(x)\n",
    "\n",
    "from sklearn.model_selection import train_test_split\n",
    "X_train, X_test, y_train, y_test = train_test_split(x, y1d, test_size=0.3) #x_scaled\n",
    "print (X_train.shape, y_train.shape)\n",
    "print (X_test.shape, y_test.shape)\n",
    "\n",
    "#transform:\n",
    "X_train = scaler.transform(X_train)\n",
    "X_test = scaler.transform(X_test)"
   ]
  },
  {
   "cell_type": "code",
   "execution_count": 9,
   "metadata": {},
   "outputs": [
    {
     "name": "stdout",
     "output_type": "stream",
     "text": [
      "[6, 12, 0.3333333333333333]\n",
      "[-1.02483819 -0.72924182 -2.13659676 -1.01679335 -0.72667969 -2.11621188\n",
      " -0.86524373 -0.00609388 -1.52672467 -1.03607362  0.35865009 -2.1335071\n",
      " -0.8801449  -0.91227136  0.02896305 -0.74298283 -0.55142243 -0.47479351\n",
      " -0.42833283 -1.08603019  2.14283619 -0.58794724 -1.08517736  2.14127247\n",
      " -0.89165311 -0.89280755 -0.0312661   0.02916264 -0.19394819  0.33205756]\n"
     ]
    }
   ],
   "source": [
    "print(players_winrate[200220472])\n",
    "#print(players_stat[200220472])\n",
    "#print(players_stat[202225665])\n",
    "print(X_train[0])"
   ]
  },
  {
   "cell_type": "code",
   "execution_count": 6,
   "metadata": {},
   "outputs": [
    {
     "data": {
      "text/html": [
       "<div>\n",
       "<style>\n",
       "    .dataframe thead tr:only-child th {\n",
       "        text-align: right;\n",
       "    }\n",
       "\n",
       "    .dataframe thead th {\n",
       "        text-align: left;\n",
       "    }\n",
       "\n",
       "    .dataframe tbody tr th {\n",
       "        vertical-align: top;\n",
       "    }\n",
       "</style>\n",
       "<table border=\"1\" class=\"dataframe\">\n",
       "  <thead>\n",
       "    <tr style=\"text-align: right;\">\n",
       "      <th></th>\n",
       "      <th>0</th>\n",
       "      <th>1</th>\n",
       "      <th>2</th>\n",
       "      <th>3</th>\n",
       "      <th>4</th>\n",
       "      <th>5</th>\n",
       "      <th>6</th>\n",
       "      <th>7</th>\n",
       "      <th>8</th>\n",
       "      <th>9</th>\n",
       "      <th>...</th>\n",
       "      <th>1035</th>\n",
       "      <th>1036</th>\n",
       "      <th>1037</th>\n",
       "      <th>1038</th>\n",
       "      <th>1039</th>\n",
       "      <th>1040</th>\n",
       "      <th>1041</th>\n",
       "      <th>1042</th>\n",
       "      <th>1043</th>\n",
       "      <th>1044</th>\n",
       "    </tr>\n",
       "  </thead>\n",
       "  <tbody>\n",
       "    <tr>\n",
       "      <th>0</th>\n",
       "      <td>182639758</td>\n",
       "      <td>1200</td>\n",
       "      <td>100</td>\n",
       "      <td>202225665</td>\n",
       "      <td>201233302</td>\n",
       "      <td>204410278</td>\n",
       "      <td>202939943</td>\n",
       "      <td>204883600</td>\n",
       "      <td>202054882</td>\n",
       "      <td>202965995</td>\n",
       "      <td>...</td>\n",
       "      <td>8014.0</td>\n",
       "      <td>85.0</td>\n",
       "      <td>0.0</td>\n",
       "      <td>0.0</td>\n",
       "      <td>9111.0</td>\n",
       "      <td>255.0</td>\n",
       "      <td>80.0</td>\n",
       "      <td>0.0</td>\n",
       "      <td>8100.0</td>\n",
       "      <td>8000.0</td>\n",
       "    </tr>\n",
       "    <tr>\n",
       "      <th>1</th>\n",
       "      <td>182639784</td>\n",
       "      <td>1200</td>\n",
       "      <td>100</td>\n",
       "      <td>202238230</td>\n",
       "      <td>202550313</td>\n",
       "      <td>200163292</td>\n",
       "      <td>204157139</td>\n",
       "      <td>201933637</td>\n",
       "      <td>203722551</td>\n",
       "      <td>204950394</td>\n",
       "      <td>...</td>\n",
       "      <td>9111.0</td>\n",
       "      <td>37.0</td>\n",
       "      <td>40.0</td>\n",
       "      <td>0.0</td>\n",
       "      <td>9104.0</td>\n",
       "      <td>0.0</td>\n",
       "      <td>0.0</td>\n",
       "      <td>0.0</td>\n",
       "      <td>8100.0</td>\n",
       "      <td>8000.0</td>\n",
       "    </tr>\n",
       "    <tr>\n",
       "      <th>2</th>\n",
       "      <td>182639803</td>\n",
       "      <td>1200</td>\n",
       "      <td>200</td>\n",
       "      <td>203112515</td>\n",
       "      <td>200074243</td>\n",
       "      <td>204606531</td>\n",
       "      <td>201875934</td>\n",
       "      <td>203856654</td>\n",
       "      <td>200125290</td>\n",
       "      <td>202720776</td>\n",
       "      <td>...</td>\n",
       "      <td>8347.0</td>\n",
       "      <td>0.0</td>\n",
       "      <td>0.0</td>\n",
       "      <td>0.0</td>\n",
       "      <td>8304.0</td>\n",
       "      <td>4.0</td>\n",
       "      <td>3.0</td>\n",
       "      <td>0.0</td>\n",
       "      <td>8200.0</td>\n",
       "      <td>8300.0</td>\n",
       "    </tr>\n",
       "    <tr>\n",
       "      <th>3</th>\n",
       "      <td>182639834</td>\n",
       "      <td>1200</td>\n",
       "      <td>200</td>\n",
       "      <td>203601120</td>\n",
       "      <td>203952894</td>\n",
       "      <td>200199360</td>\n",
       "      <td>203581658</td>\n",
       "      <td>202264295</td>\n",
       "      <td>201883748</td>\n",
       "      <td>200632227</td>\n",
       "      <td>...</td>\n",
       "      <td>8138.0</td>\n",
       "      <td>30.0</td>\n",
       "      <td>0.0</td>\n",
       "      <td>0.0</td>\n",
       "      <td>8105.0</td>\n",
       "      <td>4.0</td>\n",
       "      <td>0.0</td>\n",
       "      <td>0.0</td>\n",
       "      <td>8200.0</td>\n",
       "      <td>8100.0</td>\n",
       "    </tr>\n",
       "    <tr>\n",
       "      <th>4</th>\n",
       "      <td>182639838</td>\n",
       "      <td>1200</td>\n",
       "      <td>200</td>\n",
       "      <td>200122165</td>\n",
       "      <td>202520920</td>\n",
       "      <td>200202803</td>\n",
       "      <td>203238502</td>\n",
       "      <td>200313860</td>\n",
       "      <td>202958406</td>\n",
       "      <td>202244080</td>\n",
       "      <td>...</td>\n",
       "      <td>8143.0</td>\n",
       "      <td>581.0</td>\n",
       "      <td>0.0</td>\n",
       "      <td>0.0</td>\n",
       "      <td>8105.0</td>\n",
       "      <td>5.0</td>\n",
       "      <td>0.0</td>\n",
       "      <td>0.0</td>\n",
       "      <td>8000.0</td>\n",
       "      <td>8100.0</td>\n",
       "    </tr>\n",
       "  </tbody>\n",
       "</table>\n",
       "<p>5 rows × 1045 columns</p>\n",
       "</div>"
      ],
      "text/plain": [
       "        0     1     2          3          4          5          6     \\\n",
       "0  182639758  1200   100  202225665  201233302  204410278  202939943   \n",
       "1  182639784  1200   100  202238230  202550313  200163292  204157139   \n",
       "2  182639803  1200   200  203112515  200074243  204606531  201875934   \n",
       "3  182639834  1200   200  203601120  203952894  200199360  203581658   \n",
       "4  182639838  1200   200  200122165  202520920  200202803  203238502   \n",
       "\n",
       "        7          8          9      ...      1035   1036  1037  1038    1039  \\\n",
       "0  204883600  202054882  202965995   ...    8014.0   85.0   0.0   0.0  9111.0   \n",
       "1  201933637  203722551  204950394   ...    9111.0   37.0  40.0   0.0  9104.0   \n",
       "2  203856654  200125290  202720776   ...    8347.0    0.0   0.0   0.0  8304.0   \n",
       "3  202264295  201883748  200632227   ...    8138.0   30.0   0.0   0.0  8105.0   \n",
       "4  200313860  202958406  202244080   ...    8143.0  581.0   0.0   0.0  8105.0   \n",
       "\n",
       "    1040  1041  1042    1043    1044  \n",
       "0  255.0  80.0   0.0  8100.0  8000.0  \n",
       "1    0.0   0.0   0.0  8100.0  8000.0  \n",
       "2    4.0   3.0   0.0  8200.0  8300.0  \n",
       "3    4.0   0.0   0.0  8200.0  8100.0  \n",
       "4    5.0   0.0   0.0  8000.0  8100.0  \n",
       "\n",
       "[5 rows x 1045 columns]"
      ]
     },
     "execution_count": 6,
     "metadata": {},
     "output_type": "execute_result"
    }
   ],
   "source": [
    "import numpy as np\n",
    "import pandas as pd\n",
    "matches = pd.DataFrame(riot.cashedmatches)\n",
    "matches.head(5)"
   ]
  },
  {
   "cell_type": "code",
   "execution_count": 7,
   "metadata": {},
   "outputs": [
    {
     "name": "stdout",
     "output_type": "stream",
     "text": [
      "['GOLD', 'GOLD', 'UNRANKED', 'UNRANKED', 'UNRANKED', 'UNRANKED', 'SILVER', 'SILVER', 'SILVER', 'SILVER']\n"
     ]
    }
   ],
   "source": [
    "print(riot.cashedmatches[0][25:35])"
   ]
  },
  {
   "cell_type": "code",
   "execution_count": 42,
   "metadata": {},
   "outputs": [
    {
     "data": {
      "text/html": [
       "<div>\n",
       "<style>\n",
       "    .dataframe thead tr:only-child th {\n",
       "        text-align: right;\n",
       "    }\n",
       "\n",
       "    .dataframe thead th {\n",
       "        text-align: left;\n",
       "    }\n",
       "\n",
       "    .dataframe tbody tr th {\n",
       "        vertical-align: top;\n",
       "    }\n",
       "</style>\n",
       "<table border=\"1\" class=\"dataframe\">\n",
       "  <thead>\n",
       "    <tr style=\"text-align: right;\">\n",
       "      <th></th>\n",
       "      <th>2</th>\n",
       "    </tr>\n",
       "  </thead>\n",
       "  <tbody>\n",
       "    <tr>\n",
       "      <th>0</th>\n",
       "      <td>0.0</td>\n",
       "    </tr>\n",
       "    <tr>\n",
       "      <th>1</th>\n",
       "      <td>0.0</td>\n",
       "    </tr>\n",
       "    <tr>\n",
       "      <th>2</th>\n",
       "      <td>1.0</td>\n",
       "    </tr>\n",
       "    <tr>\n",
       "      <th>3</th>\n",
       "      <td>1.0</td>\n",
       "    </tr>\n",
       "    <tr>\n",
       "      <th>4</th>\n",
       "      <td>1.0</td>\n",
       "    </tr>\n",
       "  </tbody>\n",
       "</table>\n",
       "</div>"
      ],
      "text/plain": [
       "     2\n",
       "0  0.0\n",
       "1  0.0\n",
       "2  1.0\n",
       "3  1.0\n",
       "4  1.0"
      ]
     },
     "execution_count": 42,
     "metadata": {},
     "output_type": "execute_result"
    }
   ],
   "source": [
    "y = matches[[2]]/100-1\n",
    "#y = (matches[[2]]-150)/50\n",
    "y.head()"
   ]
  },
  {
   "cell_type": "code",
   "execution_count": null,
   "metadata": {
    "collapsed": true
   },
   "outputs": [],
   "source": [
    "x = matches.iloc[:,13:35].drop(labels=[23,24], axis=1).copy()\n",
    "ranks = {'UNRANKED':0, 'BRONZE':1, 'SILVER':2, 'GOLD':3, 'PLATINUM':4, 'DIAMOND':5, 'MASTER':6, 'CHALLENGER':7}\n",
    "print(ranks)\n",
    "for i in range(25,35):\n",
    "    x[i].replace(ranks, inplace=True)\n",
    "x.head()"
   ]
  },
  {
   "cell_type": "code",
   "execution_count": 27,
   "metadata": {
    "collapsed": true
   },
   "outputs": [],
   "source": [
    "from sklearn.preprocessing import LabelEncoder\n",
    "x2 = x.copy()\n",
    "\n",
    "for column_name in range(25,35):\n",
    "    label_encoder = LabelEncoder() \n",
    "\n",
    "    # Get the column values\n",
    "    x_values = list(x[column_name].values)\n",
    "\n",
    "    # Fit the label encoder\n",
    "    label_encoder.fit(x_values)\n",
    "\n",
    "    # Transform the feature\n",
    "    x2[column_name] = label_encoder.transform(x_values)"
   ]
  },
  {
   "cell_type": "code",
   "execution_count": 114,
   "metadata": {},
   "outputs": [
    {
     "data": {
      "text/html": [
       "<div>\n",
       "<style>\n",
       "    .dataframe thead tr:only-child th {\n",
       "        text-align: right;\n",
       "    }\n",
       "\n",
       "    .dataframe thead th {\n",
       "        text-align: left;\n",
       "    }\n",
       "\n",
       "    .dataframe tbody tr th {\n",
       "        vertical-align: top;\n",
       "    }\n",
       "</style>\n",
       "<table border=\"1\" class=\"dataframe\">\n",
       "  <thead>\n",
       "    <tr style=\"text-align: right;\">\n",
       "      <th></th>\n",
       "      <th>13</th>\n",
       "      <th>14</th>\n",
       "      <th>15</th>\n",
       "      <th>16</th>\n",
       "      <th>17</th>\n",
       "      <th>18</th>\n",
       "      <th>19</th>\n",
       "      <th>20</th>\n",
       "      <th>21</th>\n",
       "      <th>22</th>\n",
       "      <th>25</th>\n",
       "      <th>26</th>\n",
       "      <th>27</th>\n",
       "      <th>28</th>\n",
       "      <th>29</th>\n",
       "      <th>30</th>\n",
       "      <th>31</th>\n",
       "      <th>32</th>\n",
       "      <th>33</th>\n",
       "      <th>34</th>\n",
       "    </tr>\n",
       "  </thead>\n",
       "  <tbody>\n",
       "    <tr>\n",
       "      <th>0</th>\n",
       "      <td>55</td>\n",
       "      <td>112</td>\n",
       "      <td>99</td>\n",
       "      <td>62</td>\n",
       "      <td>131</td>\n",
       "      <td>131</td>\n",
       "      <td>117</td>\n",
       "      <td>254</td>\n",
       "      <td>110</td>\n",
       "      <td>102</td>\n",
       "      <td>3</td>\n",
       "      <td>3</td>\n",
       "      <td>0</td>\n",
       "      <td>0</td>\n",
       "      <td>0</td>\n",
       "      <td>0</td>\n",
       "      <td>2</td>\n",
       "      <td>2</td>\n",
       "      <td>2</td>\n",
       "      <td>2</td>\n",
       "    </tr>\n",
       "    <tr>\n",
       "      <th>1</th>\n",
       "      <td>107</td>\n",
       "      <td>21</td>\n",
       "      <td>63</td>\n",
       "      <td>498</td>\n",
       "      <td>61</td>\n",
       "      <td>202</td>\n",
       "      <td>11</td>\n",
       "      <td>222</td>\n",
       "      <td>90</td>\n",
       "      <td>24</td>\n",
       "      <td>2</td>\n",
       "      <td>0</td>\n",
       "      <td>0</td>\n",
       "      <td>0</td>\n",
       "      <td>2</td>\n",
       "      <td>0</td>\n",
       "      <td>0</td>\n",
       "      <td>0</td>\n",
       "      <td>2</td>\n",
       "      <td>2</td>\n",
       "    </tr>\n",
       "    <tr>\n",
       "      <th>2</th>\n",
       "      <td>145</td>\n",
       "      <td>30</td>\n",
       "      <td>5</td>\n",
       "      <td>21</td>\n",
       "      <td>11</td>\n",
       "      <td>101</td>\n",
       "      <td>80</td>\n",
       "      <td>110</td>\n",
       "      <td>30</td>\n",
       "      <td>20</td>\n",
       "      <td>2</td>\n",
       "      <td>3</td>\n",
       "      <td>0</td>\n",
       "      <td>0</td>\n",
       "      <td>0</td>\n",
       "      <td>1</td>\n",
       "      <td>1</td>\n",
       "      <td>2</td>\n",
       "      <td>3</td>\n",
       "      <td>5</td>\n",
       "    </tr>\n",
       "    <tr>\n",
       "      <th>3</th>\n",
       "      <td>53</td>\n",
       "      <td>14</td>\n",
       "      <td>145</td>\n",
       "      <td>202</td>\n",
       "      <td>84</td>\n",
       "      <td>99</td>\n",
       "      <td>5</td>\n",
       "      <td>141</td>\n",
       "      <td>62</td>\n",
       "      <td>25</td>\n",
       "      <td>0</td>\n",
       "      <td>1</td>\n",
       "      <td>0</td>\n",
       "      <td>0</td>\n",
       "      <td>0</td>\n",
       "      <td>3</td>\n",
       "      <td>2</td>\n",
       "      <td>0</td>\n",
       "      <td>1</td>\n",
       "      <td>0</td>\n",
       "    </tr>\n",
       "    <tr>\n",
       "      <th>4</th>\n",
       "      <td>107</td>\n",
       "      <td>77</td>\n",
       "      <td>145</td>\n",
       "      <td>55</td>\n",
       "      <td>222</td>\n",
       "      <td>145</td>\n",
       "      <td>64</td>\n",
       "      <td>63</td>\n",
       "      <td>134</td>\n",
       "      <td>203</td>\n",
       "      <td>3</td>\n",
       "      <td>4</td>\n",
       "      <td>4</td>\n",
       "      <td>2</td>\n",
       "      <td>2</td>\n",
       "      <td>0</td>\n",
       "      <td>3</td>\n",
       "      <td>2</td>\n",
       "      <td>2</td>\n",
       "      <td>2</td>\n",
       "    </tr>\n",
       "  </tbody>\n",
       "</table>\n",
       "</div>"
      ],
      "text/plain": [
       "    13   14   15   16   17   18   19   20   21   22  25  26  27  28  29  30  \\\n",
       "0   55  112   99   62  131  131  117  254  110  102   3   3   0   0   0   0   \n",
       "1  107   21   63  498   61  202   11  222   90   24   2   0   0   0   2   0   \n",
       "2  145   30    5   21   11  101   80  110   30   20   2   3   0   0   0   1   \n",
       "3   53   14  145  202   84   99    5  141   62   25   0   1   0   0   0   3   \n",
       "4  107   77  145   55  222  145   64   63  134  203   3   4   4   2   2   0   \n",
       "\n",
       "   31  32  33  34  \n",
       "0   2   2   2   2  \n",
       "1   0   0   2   2  \n",
       "2   1   2   3   5  \n",
       "3   2   0   1   0  \n",
       "4   3   2   2   2  "
      ]
     },
     "execution_count": 114,
     "metadata": {},
     "output_type": "execute_result"
    }
   ],
   "source": [
    "x2=x.copy()\n",
    "x2.head()"
   ]
  },
  {
   "cell_type": "code",
   "execution_count": 115,
   "metadata": {},
   "outputs": [
    {
     "data": {
      "text/plain": [
       "array([ 0.,  0.,  1., ...,  1.,  1.,  1.])"
      ]
     },
     "execution_count": 115,
     "metadata": {},
     "output_type": "execute_result"
    }
   ],
   "source": [
    "y1d = y.values.ravel()\n",
    "y1d"
   ]
  },
  {
   "cell_type": "code",
   "execution_count": 118,
   "metadata": {
    "collapsed": true
   },
   "outputs": [],
   "source": [
    "x3=x2.values"
   ]
  },
  {
   "cell_type": "code",
   "execution_count": 171,
   "metadata": {
    "collapsed": true
   },
   "outputs": [],
   "source": [
    "from sklearn.preprocessing import StandardScaler\n",
    "scaler = StandardScaler()\n",
    "scaler.fit(x2)\n",
    "x3 = scaler.transform(x2)"
   ]
  },
  {
   "cell_type": "code",
   "execution_count": 172,
   "metadata": {},
   "outputs": [
    {
     "name": "stdout",
     "output_type": "stream",
     "text": [
      "(19263, 20) (19263,)\n",
      "(19263, 20) (19263,)\n"
     ]
    }
   ],
   "source": [
    "from sklearn.model_selection import train_test_split\n",
    "X_train, X_test, y_train, y_test = train_test_split(x3, y1d, test_size=0.5)\n",
    "print (X_train.shape, y_train.shape)\n",
    "print (X_test.shape, y_test.shape)"
   ]
  },
  {
   "cell_type": "code",
   "execution_count": 461,
   "metadata": {},
   "outputs": [
    {
     "data": {
      "text/plain": [
       "array([[-0.55590509, -0.72924182,  0.46551293, ..., -0.16618102,\n",
       "        -0.11593754, -0.24177634],\n",
       "       [ 0.22565006, -0.72924182,  1.33288282, ..., -0.16618102,\n",
       "        -0.11593754, -0.24177634],\n",
       "       [-0.55590509, -1.08083517,  2.20025272, ..., -0.16618102,\n",
       "        -0.11593754, -0.24177634],\n",
       "       ..., \n",
       "       [-0.55590509, -0.20185178, -0.5102782 , ..., -0.16618102,\n",
       "        -0.11593754, -0.24177634],\n",
       "       [-0.39959406, -0.37764846,  0.03182798, ..., -0.16618102,\n",
       "        -0.11593754, -0.24177634],\n",
       "       [ 1.31982728,  1.38031831,  0.10660125, ..., -0.16618102,\n",
       "        -0.11593754,  4.8135587 ]])"
      ]
     },
     "execution_count": 461,
     "metadata": {},
     "output_type": "execute_result"
    }
   ],
   "source": [
    "X_test"
   ]
  },
  {
   "cell_type": "code",
   "execution_count": 174,
   "metadata": {},
   "outputs": [
    {
     "name": "stdout",
     "output_type": "stream",
     "text": [
      "0.000275268480486\n"
     ]
    },
    {
     "data": {
      "text/plain": [
       "array([  2.75268480e-04,   2.75268480e-04,   2.75268480e-04,\n",
       "         2.75268480e-04,   2.75268480e-04,   2.75268480e-04,\n",
       "         2.75268480e-04,   2.75268480e-04,   2.75268480e-04,\n",
       "         2.75268480e-04,  -1.02853357e+00,  -3.59042278e-01,\n",
       "         1.65683702e+00,   9.99537541e-01,  -1.02209198e+00,\n",
       "         9.96347185e-01,   2.80702825e-01,  -3.91725221e-01,\n",
       "         2.74442803e-01,  -3.62204745e-01])"
      ]
     },
     "execution_count": 174,
     "metadata": {},
     "output_type": "execute_result"
    }
   ],
   "source": [
    "X_test_old = X_test.copy\n",
    "#mean = X_test[:,-10:].mean()\n",
    "mean = X_test[:,0:10].mean()\n",
    "print(mean)\n",
    "for i in X_test:\n",
    "    i[0:10]=mean        \n",
    "X_test[0]"
   ]
  },
  {
   "cell_type": "code",
   "execution_count": 10,
   "metadata": {},
   "outputs": [
    {
     "name": "stdout",
     "output_type": "stream",
     "text": [
      "MSE: 0.0657\n",
      "Accuracy score (training): 0.951\n",
      "Accuracy score (validation): 0.934\n",
      "\n",
      "Confusion Matrix:\n",
      "[[5212  380]\n",
      " [ 379 5587]]\n",
      "\n",
      "Classification Report\n",
      "             precision    recall  f1-score   support\n",
      "\n",
      "        0.0       0.93      0.93      0.93      5592\n",
      "        1.0       0.94      0.94      0.94      5966\n",
      "\n",
      "avg / total       0.93      0.93      0.93     11558\n",
      "\n",
      "Area under ROC curve = 0.99\n"
     ]
    }
   ],
   "source": [
    "import numpy as np\n",
    "import matplotlib.pyplot as plt\n",
    "\n",
    "from sklearn import ensemble\n",
    "from sklearn import datasets\n",
    "#from sklearn.utils import shuffle\n",
    "from sklearn.metrics import mean_squared_error\n",
    "from sklearn.metrics import classification_report, confusion_matrix, roc_curve, auc\n",
    "# #############################################################################\n",
    "# Fit regression model\n",
    "#params = {'n_estimators': 500, 'max_depth': 4, 'min_samples_split': 2,'learning_rate': 0.01}\n",
    "params =  {'n_estimators': 300, 'learning_rate':0.5, 'max_features':2, 'max_depth': 2}#, 'random_state': 0}\n",
    "clf = ensemble.GradientBoostingClassifier(**params)\n",
    "\n",
    "clf.fit(X_train, y_train)\n",
    "predictions = clf.predict(X_test)\n",
    "mse = mean_squared_error(y_test, predictions)\n",
    "print(\"MSE: %.4f\" % mse)\n",
    "print(\"Accuracy score (training): {0:.3f}\".format(clf.score(X_train, y_train)))\n",
    "print(\"Accuracy score (validation): {0:.3f}\".format(clf.score(X_test, y_test)))\n",
    "print()\n",
    "    \n",
    "print(\"Confusion Matrix:\")\n",
    "print(confusion_matrix(y_test, predictions))\n",
    "print()\n",
    "print(\"Classification Report\")\n",
    "print(classification_report(y_test, predictions))\n",
    "\n",
    "y_scores_clf = clf.decision_function(X_test)\n",
    "fpr_clf, tpr_clf, _ = roc_curve(y_test, y_scores_clf)\n",
    "roc_auc_clf = auc(fpr_clf, tpr_clf)\n",
    "\n",
    "print(\"Area under ROC curve = {:0.2f}\".format(roc_auc_clf))"
   ]
  },
  {
   "cell_type": "code",
   "execution_count": 11,
   "metadata": {},
   "outputs": [
    {
     "data": {
      "image/png": "[encoded data removed]",
      "text/plain": [
       "<matplotlib.figure.Figure at 0x284586767b8>"
      ]
     },
     "metadata": {},
     "output_type": "display_data"
    }
   ],
   "source": [
    "# #############################################################################\n",
    "# Plot training deviance\n",
    "\n",
    "# compute test set deviance\n",
    "test_score = np.zeros((params['n_estimators'],), dtype=np.float64)\n",
    "\n",
    "for i, y_pred in enumerate(clf.staged_predict(X_test)):\n",
    "    test_score[i] = clf.loss_(y_test, y_pred)\n",
    "\n",
    "plt.figure(figsize=(12, 6))\n",
    "plt.subplot(1, 2, 1)\n",
    "plt.title('Deviance')\n",
    "plt.plot(np.arange(params['n_estimators']) + 1, clf.train_score_, 'b-',\n",
    "         label='Training Set Deviance')\n",
    "plt.plot(np.arange(params['n_estimators']) + 1, test_score, 'r-',\n",
    "         label='Test Set Deviance')\n",
    "plt.legend(loc='upper right')\n",
    "plt.xlabel('Boosting Iterations')\n",
    "plt.ylabel('Deviance')\n",
    "plt.show()"
   ]
  },
  {
   "cell_type": "code",
   "execution_count": 12,
   "metadata": {},
   "outputs": [
    {
     "name": "stdout",
     "output_type": "stream",
     "text": [
      "[10  7  4 24  0 13  1 12 21  9  3 18 29 25 16 19 22 15 28  8 23 11 17 27 26\n",
      "  2  5 20 14  6]\n"
     ]
    },
    {
     "data": {
      "image/png": "[encoded data removed]",
      "text/plain": [
       "<matplotlib.figure.Figure at 0x284ae52e160>"
      ]
     },
     "metadata": {},
     "output_type": "display_data"
    },
    {
     "data": {
      "image/png": "[encoded data removed]",
      "text/plain": [
       "<matplotlib.figure.Figure at 0x284aff52240>"
      ]
     },
     "metadata": {},
     "output_type": "display_data"
    }
   ],
   "source": [
    "# #############################################################################\n",
    "# Plot feature importance\n",
    "feature_importance = clf.feature_importances_\n",
    "# make importances relative to max importance\n",
    "feature_importance = 100.0 * (feature_importance / feature_importance.max())\n",
    "sorted_idx = np.argsort(feature_importance)\n",
    "print(sorted_idx)\n",
    "pos = np.arange(sorted_idx.shape[0]) + .5\n",
    "\n",
    "plt.subplot(1, 2, 2)\n",
    "plt.barh(sorted_idx, feature_importance[sorted_idx], align='center')\n",
    "plt.yticks(pos, x.iloc[sorted_idx])\n",
    "plt.xlabel('Relative Importance')\n",
    "plt.title('Variable Importance')\n",
    "plt.show()\n",
    "\n",
    "plt.subplot(1, 2, 2)\n",
    "plt.barh(pos, feature_importance[sorted_idx], align='center')\n",
    "plt.yticks(pos, x.iloc[sorted_idx])\n",
    "plt.xlabel('Relative Importance')\n",
    "plt.title('Variable Importance')\n",
    "plt.show()"
   ]
  },
  {
   "cell_type": "code",
   "execution_count": 16,
   "metadata": {},
   "outputs": [
    {
     "name": "stdout",
     "output_type": "stream",
     "text": [
      "Accuracy: 0.81 (+/- 0.01) [DecisionTree]\n",
      "Accuracy: 0.94 (+/- 0.01) [RandomForest]\n",
      "Accuracy: 0.92 (+/- 0.01) [naiveBayes]\n",
      "Accuracy: 0.93 (+/- 0.01) [GradientBoostingClassifier]\n",
      "Accuracy: 0.93 (+/- 0.01) [Ensemble]\n"
     ]
    }
   ],
   "source": [
    "from sklearn import datasets\n",
    "from sklearn.model_selection import cross_val_score\n",
    "from sklearn.linear_model import LogisticRegression\n",
    "from sklearn.naive_bayes import GaussianNB\n",
    "from sklearn.ensemble import RandomForestClassifier\n",
    "from sklearn.ensemble import VotingClassifier\n",
    "from sklearn.tree import DecisionTreeClassifier\n",
    "from sklearn.ensemble import GradientBoostingClassifier\n",
    "\n",
    "clf1 = DecisionTreeClassifier(max_depth=4)\n",
    "clf2 = RandomForestClassifier(n_estimators=100)\n",
    "clf3 = GaussianNB()\n",
    "clf4 = GradientBoostingClassifier()\n",
    "\n",
    "eclf = VotingClassifier(estimators=[('dtc', clf1), ('rf', clf2), ('gnb', clf3), ('bgc', clf4)], voting='hard')\n",
    "\n",
    "for clf, label in zip([clf1, clf2, clf3, clf4, eclf], ['DecisionTree', 'RandomForest', 'naiveBayes', 'GradientBoostingClassifier','Ensemble']):\n",
    "    #scores = cross_val_score(clf, x_scaled, y1d, cv=5, scoring='accuracy') #before: x2\n",
    "    scores = cross_val_score(clf, x, y1d, cv=5, scoring='accuracy')\n",
    "    print(\"Accuracy: %0.2f (+/- %0.2f) [%s]\" % (scores.mean(), scores.std(), label))"
   ]
  },
  {
   "cell_type": "code",
   "execution_count": null,
   "metadata": {
    "collapsed": true
   },
   "outputs": [],
   "source": [
    "learning_rates = [i*0.01 for i in range(10,100,5)]\n",
    "for learning_rate in learning_rates:\n",
    "    #gb = GradientBoostingClassifier(n_estimators=242, learning_rate = learning_rate, max_features=2, max_depth = 2, random_state = 0)\n",
    "    gb = GradientBoostingClassifier(n_estimators=200, learning_rate = learning_rate, max_features=2, max_depth = 2, random_state = 0)\n",
    "    gb.fit(X_train, y_train)\n",
    "    print(\"Learning rate: \", learning_rate)\n",
    "    print(\"Accuracy score (training): {0:.3f}\".format(gb.score(X_train, y_train)))\n",
    "    print(\"Accuracy score (validation): {0:.3f}\".format(gb.score(X_test, y_test)))\n",
    "    print()"
   ]
  },
  {
   "cell_type": "code",
   "execution_count": 13,
   "metadata": {},
   "outputs": [
    {
     "name": "stdout",
     "output_type": "stream",
     "text": [
      "1.9.0\n",
      "b'unknown' MSVC 190024215 0 1\n"
     ]
    }
   ],
   "source": [
    "import tensorflow as tf\n",
    "from tensorflow import keras\n",
    "print(tf.__version__)\n",
    "print(tf.__git_version__,tf.__compiler_version__,tf.__cxx11_abi_flag__,tf.__monolithic_build__)\n",
    "import os\n",
    "os.environ[\"CUDA_VISIBLE_DEVICES\"] = '1' #use GPU with ID=0\n",
    "config = tf.ConfigProto()\n",
    "config.gpu_options.per_process_gpu_memory_fraction = 0.5 # maximun alloc gpu50% of MEM\n",
    "config.gpu_options.allow_growth = True #allocate dynamically\n",
    "sess = tf.Session(config = config)"
   ]
  },
  {
   "cell_type": "code",
   "execution_count": 61,
   "metadata": {},
   "outputs": [
    {
     "name": "stdout",
     "output_type": "stream",
     "text": [
      "_________________________________________________________________\n",
      "Layer (type)                 Output Shape              Param #   \n",
      "=================================================================\n",
      "dense_3 (Dense)              (None, 128)               3968      \n",
      "_________________________________________________________________\n",
      "dense_4 (Dense)              (None, 128)               16512     \n",
      "_________________________________________________________________\n",
      "dense_5 (Dense)              (None, 1)                 129       \n",
      "=================================================================\n",
      "Total params: 20,609\n",
      "Trainable params: 20,609\n",
      "Non-trainable params: 0\n",
      "_________________________________________________________________\n"
     ]
    }
   ],
   "source": [
    "l2_bigger_model = keras.models.Sequential([\n",
    "    keras.layers.Dense(128, kernel_regularizer=keras.regularizers.l2(0.01),\n",
    "activation=tf.nn.relu, input_shape=(30,)),\n",
    "    #keras.layers.Dropout(0.5),\n",
    "    keras.layers.Dense(128, kernel_regularizer=keras.regularizers.l2(0.01),\n",
    "activation=tf.nn.relu),\n",
    "    #keras.layers.Dropout(0.5),\n",
    "    keras.layers.Dense(1, activation=tf.nn.sigmoid)\n",
    "])\n",
    "l2_bigger_model.compile(optimizer='adam',\n",
    "                 loss='binary_crossentropy',\n",
    "                 metrics=['accuracy','binary_crossentropy'])\n",
    "l2_bigger_model.summary()"
   ]
  },
  {
   "cell_type": "code",
   "execution_count": 62,
   "metadata": {},
   "outputs": [
    {
     "name": "stdout",
     "output_type": "stream",
     "text": [
      "Train on 26968 samples, validate on 11558 samples\n",
      "Epoch 1/20\n",
      "26968/26968 [==============================] - 1s 20us/step - loss: 1.9215 - acc: 0.8610 - binary_crossentropy: 0.4152 - val_loss: 1.4791 - val_acc: 0.9218 - val_binary_crossentropy: 0.2399\n",
      "Epoch 2/20\n",
      "26968/26968 [==============================] - 0s 5us/step - loss: 1.2262 - acc: 0.9253 - binary_crossentropy: 0.2051 - val_loss: 0.9878 - val_acc: 0.9268 - val_binary_crossentropy: 0.1927\n",
      "Epoch 3/20\n",
      "26968/26968 [==============================] - 0s 5us/step - loss: 0.8289 - acc: 0.9287 - binary_crossentropy: 0.1878 - val_loss: 0.6804 - val_acc: 0.9290 - val_binary_crossentropy: 0.1865\n",
      "Epoch 4/20\n",
      "26968/26968 [==============================] - 0s 6us/step - loss: 0.5813 - acc: 0.9299 - binary_crossentropy: 0.1812 - val_loss: 0.4912 - val_acc: 0.9283 - val_binary_crossentropy: 0.1807\n",
      "Epoch 5/20\n",
      "26968/26968 [==============================] - 0s 5us/step - loss: 0.4294 - acc: 0.9310 - binary_crossentropy: 0.1764 - val_loss: 0.3765 - val_acc: 0.9282 - val_binary_crossentropy: 0.1782\n",
      "Epoch 6/20\n",
      "26968/26968 [==============================] - 0s 6us/step - loss: 0.3375 - acc: 0.9316 - binary_crossentropy: 0.1734 - val_loss: 0.3062 - val_acc: 0.9292 - val_binary_crossentropy: 0.1750\n",
      "Epoch 7/20\n",
      "26968/26968 [==============================] - 0s 5us/step - loss: 0.2819 - acc: 0.9315 - binary_crossentropy: 0.1714 - val_loss: 0.2639 - val_acc: 0.9306 - val_binary_crossentropy: 0.1736\n",
      "Epoch 8/20\n",
      "26968/26968 [==============================] - 0s 6us/step - loss: 0.2485 - acc: 0.9323 - binary_crossentropy: 0.1705 - val_loss: 0.2388 - val_acc: 0.9304 - val_binary_crossentropy: 0.1723\n",
      "Epoch 9/20\n",
      "26968/26968 [==============================] - 0s 6us/step - loss: 0.2285 - acc: 0.9304 - binary_crossentropy: 0.1698 - val_loss: 0.2244 - val_acc: 0.9302 - val_binary_crossentropy: 0.1729\n",
      "Epoch 10/20\n",
      "26968/26968 [==============================] - 0s 5us/step - loss: 0.2159 - acc: 0.9317 - binary_crossentropy: 0.1690 - val_loss: 0.2147 - val_acc: 0.9293 - val_binary_crossentropy: 0.1726\n",
      "Epoch 11/20\n",
      "26968/26968 [==============================] - 0s 5us/step - loss: 0.2079 - acc: 0.9313 - binary_crossentropy: 0.1689 - val_loss: 0.2076 - val_acc: 0.9291 - val_binary_crossentropy: 0.1714\n",
      "Epoch 12/20\n",
      "26968/26968 [==============================] - 0s 5us/step - loss: 0.2030 - acc: 0.9302 - binary_crossentropy: 0.1691 - val_loss: 0.2027 - val_acc: 0.9294 - val_binary_crossentropy: 0.1702\n",
      "Epoch 13/20\n",
      "26968/26968 [==============================] - 0s 5us/step - loss: 0.1994 - acc: 0.9313 - binary_crossentropy: 0.1687 - val_loss: 0.2005 - val_acc: 0.9302 - val_binary_crossentropy: 0.1710\n",
      "Epoch 14/20\n",
      "26968/26968 [==============================] - 0s 5us/step - loss: 0.1969 - acc: 0.9301 - binary_crossentropy: 0.1687 - val_loss: 0.1985 - val_acc: 0.9289 - val_binary_crossentropy: 0.1714\n",
      "Epoch 15/20\n",
      "26968/26968 [==============================] - 0s 6us/step - loss: 0.1948 - acc: 0.9298 - binary_crossentropy: 0.1684 - val_loss: 0.1968 - val_acc: 0.9295 - val_binary_crossentropy: 0.1712\n",
      "Epoch 16/20\n",
      "26968/26968 [==============================] - 0s 5us/step - loss: 0.1931 - acc: 0.9306 - binary_crossentropy: 0.1678 - val_loss: 0.1939 - val_acc: 0.9304 - val_binary_crossentropy: 0.1695\n",
      "Epoch 17/20\n",
      "26968/26968 [==============================] - 0s 5us/step - loss: 0.1919 - acc: 0.9307 - binary_crossentropy: 0.1679 - val_loss: 0.1934 - val_acc: 0.9292 - val_binary_crossentropy: 0.1697\n",
      "Epoch 18/20\n",
      "26968/26968 [==============================] - 0s 6us/step - loss: 0.1920 - acc: 0.9299 - binary_crossentropy: 0.1686 - val_loss: 0.1949 - val_acc: 0.9297 - val_binary_crossentropy: 0.1726\n",
      "Epoch 19/20\n",
      "26968/26968 [==============================] - 0s 5us/step - loss: 0.1898 - acc: 0.9312 - binary_crossentropy: 0.1672 - val_loss: 0.1928 - val_acc: 0.9294 - val_binary_crossentropy: 0.1710\n",
      "Epoch 20/20\n",
      "26968/26968 [==============================] - 0s 5us/step - loss: 0.1893 - acc: 0.9310 - binary_crossentropy: 0.1676 - val_loss: 0.1914 - val_acc: 0.9301 - val_binary_crossentropy: 0.1696\n"
     ]
    }
   ],
   "source": [
    "l2_bigger_history = l2_bigger_model.fit(X_train, y_train,\n",
    "                                epochs=20,\n",
    "                                batch_size=1024,\n",
    "                                validation_data=(X_test, y_test),\n",
    "                                verbose=1)"
   ]
  },
  {
   "cell_type": "code",
   "execution_count": 63,
   "metadata": {},
   "outputs": [
    {
     "data": {
      "image/png": "[encoded data removed]",
      "text/plain": [
       "<matplotlib.figure.Figure at 0x284b614a4e0>"
      ]
     },
     "metadata": {},
     "output_type": "display_data"
    },
    {
     "data": {
      "image/png": "[encoded data removed]",
      "text/plain": [
       "<matplotlib.figure.Figure at 0x284b50b4a20>"
      ]
     },
     "metadata": {},
     "output_type": "display_data"
    }
   ],
   "source": [
    "def plot_history(histories, key='binary_crossentropy'): # , acc\n",
    "  plt.figure(figsize=(20,5))\n",
    "    \n",
    "  for name, history in histories:\n",
    "    val = plt.plot(history.epoch, history.history['val_'+key],\n",
    "                   '--', label=name.title()+' Val')\n",
    "    plt.plot(history.epoch, history.history[key], color=val[0].get_color(),\n",
    "             label=name.title()+' Train')\n",
    "\n",
    "  plt.xlabel('Epochs')\n",
    "  plt.ylabel(key.replace('_',' ').title())\n",
    "  plt.legend()\n",
    "\n",
    "  plt.xlim([0,max(history.epoch)])\n",
    "\n",
    "plot_history([('l2_bigger', l2_bigger_history)], key='binary_crossentropy')\n",
    "plot_history([('l2_bigger', l2_bigger_history)], key='acc')\n",
    "'''\n",
    "plot_history([('baseline', baseline_history),('l2', l2_model_history),('l2_bigger', l2_bigger_history),\n",
    "              ('dpt_bigger', dpt_bigger_history)])\n",
    "\n",
    "plot_history([('baseline', baseline_history),('l2', l2_model_history),('l2_bigger', l2_bigger_history),\n",
    "              ('dpt_bigger', dpt_bigger_history)], key='acc')\n",
    "'''\n",
    "plt.show()"
   ]
  },
  {
   "cell_type": "code",
   "execution_count": 64,
   "metadata": {},
   "outputs": [
    {
     "data": {
      "text/plain": [
       "0.051034490944456806"
      ]
     },
     "execution_count": 64,
     "metadata": {},
     "output_type": "execute_result"
    }
   ],
   "source": [
    "from sklearn.metrics import mean_squared_error\n",
    "predictions = l2_bigger_model.predict(X_test)\n",
    "mean_squared_error(y_test, predictions)"
   ]
  },
  {
   "cell_type": "code",
   "execution_count": 65,
   "metadata": {},
   "outputs": [
    {
     "name": "stdout",
     "output_type": "stream",
     "text": [
      "11558/11558 [==============================] - 0s 12us/step\n",
      "0.507959 0.43948 0.193143\n",
      "26968/26968 [==============================] - 0s 11us/step\n",
      "0.501817 0.441431 0.194862\n"
     ]
    }
   ],
   "source": [
    "predict  = l2_bigger_model.predict(X_test,verbose=1)\n",
    "print(predict.mean(), predict.std(), predict.var())\n",
    "train_predict = l2_bigger_model.predict(X_train,verbose=1)\n",
    "print(train_predict.mean(), train_predict.std(), train_predict.var())"
   ]
  },
  {
   "cell_type": "code",
   "execution_count": 75,
   "metadata": {},
   "outputs": [
    {
     "data": {
      "image/png": "[encoded data removed]",
      "text/plain": [
       "<matplotlib.figure.Figure at 0x284b6255550>"
      ]
     },
     "metadata": {},
     "output_type": "display_data"
    }
   ],
   "source": [
    "import seaborn as sns\n",
    "%matplotlib inline\n",
    "sns.distplot(predict);\n"
   ]
  },
  {
   "cell_type": "code",
   "execution_count": 66,
   "metadata": {},
   "outputs": [
    {
     "name": "stdout",
     "output_type": "stream",
     "text": [
      "11558/11558 [==============================] - 0s 12us/step\n",
      "11558 11558\n",
      "10750 0.9300917113687489\n",
      "105.0\n",
      "110.25\n",
      "115.7625\n",
      "121.55062500000001\n",
      "127.62815625000002\n",
      "134.00956406250003\n",
      "140.71004226562502\n",
      "147.7455443789063\n",
      "155.1328215978516\n",
      "162.88946267774418\n",
      "171.0339358116314\n",
      "179.58563260221297\n",
      "188.56491423232364\n",
      "197.99315994393982\n",
      "207.8928179411368\n",
      "218.28745883819363\n",
      "229.2018317801033\n",
      "240.66192336910848\n",
      "252.69501953756392\n",
      "265.32977051444215\n",
      "278.5962590401642\n",
      "292.52607199217243\n",
      "307.15237559178104\n",
      "322.5099943713701\n",
      "338.6354940899387\n",
      "355.5672687944356\n",
      "373.3456322341574\n",
      "392.0129138458653\n",
      "411.6135595381586\n",
      "432.19423751506656\n",
      "453.80394939081987\n",
      "476.49414686036084\n",
      "500.3188542033789\n",
      "525.334796913548\n",
      "551.6015367592254\n",
      "579.1816135971867\n",
      "608.1406942770461\n",
      "638.5477289908985\n",
      "670.4751154404435\n",
      "703.9988712124657\n",
      "739.198814773089\n",
      "776.1587555117435\n",
      "814.9666932873307\n",
      "855.7150279516973\n",
      "898.5007793492821\n",
      "943.4258183167462\n",
      "990.5971092325836\n",
      "1040.1269646942128\n",
      "1092.1333129289235\n",
      "1146.7399785753696\n",
      "1204.076977504138\n",
      "1264.280826379345\n",
      "1264.280826379345\n"
     ]
    }
   ],
   "source": [
    "balance = 100\n",
    "bet = 0.5 #%\n",
    "win = 1.1 #win reward multiplied\n",
    "predict  = l2_bigger_model.predict(X_test,verbose=1)\n",
    "print(len(predict), len(y_test))\n",
    "count = 0\n",
    "for i in range(len(predict)):\n",
    "    #print(predict[i], y_test.iloc[i], abs(y_test.iloc[i]-predict[i]))\n",
    "    if abs(y_test[i]-predict[i])<0.5:\n",
    "        count+=1\n",
    "print(count, count/len(y_test))\n",
    "\n",
    "for i in range(100):\n",
    "#for i in range(len(predict)):\n",
    "    if abs(0.5-predict[i])>0.49:\n",
    "        cash = balance * bet\n",
    "        balance-=cash\n",
    "    else:\n",
    "        continue\n",
    "    if abs(y_test[i]-predict[i])<0.5:\n",
    "        reward = win * cash\n",
    "        balance +=reward\n",
    "    print(balance)\n",
    "print(balance)"
   ]
  },
  {
   "cell_type": "code",
   "execution_count": null,
   "metadata": {
    "collapsed": true
   },
   "outputs": [],
   "source": []
  }
 ],
 "metadata": {
  "kernelspec": {
   "display_name": "Python 3",
   "language": "python",
   "name": "python3"
  },
  "language_info": {
   "codemirror_mode": {
    "name": "ipython",
    "version": 3
   },
   "file_extension": ".py",
   "mimetype": "text/x-python",
   "name": "python",
   "nbconvert_exporter": "python",
   "pygments_lexer": "ipython3",
   "version": "3.6.3"
  }
 },
 "nbformat": 4,
 "nbformat_minor": 2
}
